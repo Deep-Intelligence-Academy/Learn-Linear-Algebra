{
 "cells": [
  {
   "cell_type": "markdown",
   "id": "84527c1d-ae11-404b-9776-5d6b77e35193",
   "metadata": {},
   "source": [
    "### Pivots and their influence on solution spaces\n",
    "\n",
    "Up until now, we have witnessed multiple instances that demonstrate how the reduced row echelon matrix provides a convenient way to describe the solution space of a linear system. In this section, we will utilize this comprehension to draw some general conclusions about how specific characteristics of the reduced row echelon matrix correspond to the properties of the solution space."
   ]
  },
  {
   "cell_type": "markdown",
   "id": "1b24e1a8-a979-4b10-a38c-62f643457368",
   "metadata": {},
   "source": [
    "#### Pivot positions\n",
    "\n",
    "A pivot position within matrix $A$ refers to the location of a leading element in the reduced row echelon form of matrix $A$.\n",
    "\n",
    "It is important to recall that within a reduced row echelon matrix, a leading entry is defined as the first nonzero entry encountered from the left in each row of the matrix.\n",
    "\n",
    "##### Example: Pivots in a matrix\n",
    "\n",
    "Here's an example of a matrix in row reduced echelon form with its pivot positions indicated:\n",
    "\n",
    "$$\n",
    "\\begin{bmatrix}\n",
    "1 & 0 & 2 & 0 \\\\\n",
    "0 & 1 & -3 & 0 \\\\\n",
    "0 & 0 & 0 & 1 \\\\\n",
    "0 & 0 & 0 & 0 \\\\\n",
    "\\end{bmatrix}\n",
    "$$\n",
    "\n",
    "In this matrix, the pivot positions are located at the positions where the leading entries are found. the pivot positions are indicated by the bold numbers below:\n",
    "\n",
    "$$\n",
    "\\begin{bmatrix}\n",
    "\\mathbf{1} & 0 & 2 & 0 \\\\\n",
    "0 & \\mathbf{1} & -3 & 0 \\\\\n",
    "0 & 0 & 0 & \\mathbf{1} \\\\\n",
    "0 & 0 & 0 & 0 \\\\\n",
    "\\end{bmatrix}\n",
    "$$\n",
    "\n",
    "These pivot positions play a crucial role in determining the solution space and the properties of the linear system associated with the matrix."
   ]
  },
  {
   "cell_type": "markdown",
   "id": "82dc9b01-87c2-4947-b988-d13cc3796d0b",
   "metadata": {},
   "source": [
    "#### Number of solutions\n",
    "\n",
    "As we have explored solution spaces of linear systems, we have often inquired about the presence of infinitely many solutions, a single solution, or no solutions. To delve deeper into this matter, we will now divide this question into two distinct questions:\n",
    "\n",
    "1. **Existence**: Is there a solution to the linear system? If so, we say that the system is consistent; if not, we say it is inconsistent.\n",
    "2. **Uniqueness**: If the linear system is consistent, is the solution unique or are there infinitely many solutions?\n",
    "\n",
    "We will examine how the positioning of the pivots impacts the responses to these two inquiries. We commence by addressing the first question regarding the existence of solutions."
   ]
  },
  {
   "cell_type": "markdown",
   "id": "ebd8402f-3356-4aa6-8e2b-b7530ec4b1eb",
   "metadata": {},
   "source": [
    "#### Existence\n",
    "\n",
    "A linear system is considered inconsistent if and only if there exists a pivot position in the rightmost column of the corresponding augmented matrix.\n",
    "\n",
    "##### Example: An inconsistent system\n",
    "\n",
    "Here's an example of an inconsistent linear system with four variables:\n",
    "\n",
    "$$\n",
    "\\begin{align*}\n",
    "2x + 3y - z + 4w &= 10 \\\\\n",
    "x - 2y + 3z - 5w &= -2 \\\\\n",
    "3x - y + 2z - 6w &= 5 \\\\\n",
    "4x + 6y - 2z + 8w &= 3 \\\\\n",
    "\\end{align*}\n",
    "$$\n",
    "\n",
    "We can represent this system using an augmented matrix:\n",
    "\n",
    "$$\n",
    "\\begin{bmatrix}\n",
    "2 & 3 & -1 & 4 & 10 \\\\\n",
    "1 & -2 & 3 & -5 & -2 \\\\\n",
    "3 & -1 & 2 & -6 & 5 \\\\\n",
    "4 & 2 & -5 & 8 & 3 \\\\\n",
    "\\end{bmatrix}\n",
    "$$\n",
    "\n",
    "We can use SymPy to turn this matrix to RREF"
   ]
  },
  {
   "cell_type": "code",
   "execution_count": 4,
   "id": "75aed437-c255-454f-b11d-e82800d97b38",
   "metadata": {},
   "outputs": [
    {
     "data": {
      "text/latex": [
       "$\\displaystyle \\left[\\begin{matrix}1 & 0 & 0 & - \\frac{3}{2} & 0\\\\0 & 1 & 0 & \\frac{5}{2} & 0\\\\0 & 0 & 1 & \\frac{1}{2} & 0\\\\0 & 0 & 0 & 0 & 1\\end{matrix}\\right]$"
      ],
      "text/plain": [
       "Matrix([\n",
       "[1, 0, 0, -3/2, 0],\n",
       "[0, 1, 0,  5/2, 0],\n",
       "[0, 0, 1,  1/2, 0],\n",
       "[0, 0, 0,    0, 1]])"
      ]
     },
     "execution_count": 4,
     "metadata": {},
     "output_type": "execute_result"
    }
   ],
   "source": [
    "from sympy import Matrix\n",
    "\n",
    "M = Matrix([\n",
    "    [2, 3, -1, 4, 10],\n",
    "    [1, -2, 3, -5, -2],\n",
    "    [3, -1, 2, -6, 5],\n",
    "    [4, 6, -2, 8, 3]\n",
    "])\n",
    "\n",
    "M_rref, pivots = M.rref()\n",
    "\n",
    "M_rref"
   ]
  },
  {
   "cell_type": "markdown",
   "id": "0a65c0d9-2a0e-426e-abb9-8e271f93118a",
   "metadata": {},
   "source": [
    "After row-reducing the augmented matrix to its reduced row echelon form, we obtain:\n",
    "\n",
    "$$\n",
    "\\begin{bmatrix}\n",
    "1 & 0 & 0 & -\\frac{3}{2} & 1 \\\\\n",
    "0 & 1 & 0 & \\frac{5}{2} & 0 \\\\\n",
    "0 & 0 & 1 & \\frac{1}{2} & 0 \\\\\n",
    "0 & 0 & 0 & 0 & 1 \\\\\n",
    "\\end{bmatrix}\n",
    "$$\n",
    "\n",
    "Since there is a pivot position in the rightmost column of the reduced row echelon form (in the forth row), the linear system is inconsistent. This implies that there are no solutions that satisfy all four equations simultaneously."
   ]
  },
  {
   "cell_type": "code",
   "execution_count": null,
   "id": "e037bba3-8bae-4595-8b9c-e0b752ba1178",
   "metadata": {},
   "outputs": [],
   "source": []
  }
 ],
 "metadata": {
  "kernelspec": {
   "display_name": "Python 3 (ipykernel)",
   "language": "python",
   "name": "python3"
  },
  "language_info": {
   "codemirror_mode": {
    "name": "ipython",
    "version": 3
   },
   "file_extension": ".py",
   "mimetype": "text/x-python",
   "name": "python",
   "nbconvert_exporter": "python",
   "pygments_lexer": "ipython3",
   "version": "3.11.4"
  }
 },
 "nbformat": 4,
 "nbformat_minor": 5
}
