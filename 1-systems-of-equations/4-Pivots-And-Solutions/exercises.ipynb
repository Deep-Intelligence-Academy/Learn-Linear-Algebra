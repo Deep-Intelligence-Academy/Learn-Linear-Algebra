{
 "cells": [
  {
   "cell_type": "markdown",
   "id": "311c165e-d23f-48bb-8a78-1d64c1681ff6",
   "metadata": {},
   "source": [
    "### Exercises"
   ]
  },
  {
   "cell_type": "markdown",
   "id": "583a5883-6a22-402e-a2af-983db8fa228b",
   "metadata": {},
   "source": [
    "#### Exercise 1-9\n",
    "\n",
    "Solve exercise 1-9 from section three of first chapter of [Understanding Linear Algebra Book](https://understandinglinearalgebra.org/sec-pivots.html), but use SymPy to solve them instead of sage."
   ]
  }
 ],
 "metadata": {
  "kernelspec": {
   "display_name": "Python 3 (ipykernel)",
   "language": "python",
   "name": "python3"
  },
  "language_info": {
   "codemirror_mode": {
    "name": "ipython",
    "version": 3
   },
   "file_extension": ".py",
   "mimetype": "text/x-python",
   "name": "python",
   "nbconvert_exporter": "python",
   "pygments_lexer": "ipython3",
   "version": "3.11.4"
  }
 },
 "nbformat": 4,
 "nbformat_minor": 5
}
