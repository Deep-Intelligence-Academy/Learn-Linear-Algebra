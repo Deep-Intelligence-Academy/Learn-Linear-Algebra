{
 "cells": [
  {
   "cell_type": "markdown",
   "id": "79cbeedb-ee9f-4577-8b81-c7abaafcb01c",
   "metadata": {},
   "source": [
    "## Solving a linear system of equations with SymPy\n",
    "\n",
    "There are two ways that we can use SymPy to solve a linear system of equations:\n",
    "1. Writing systems in augmented matrix form and using `rref` method in matrix object of SymPy Matrix.\n",
    "2. Writing equations using symbols and `Eq` object then using `solve` function in SymPy.\n",
    "\n",
    "We will explore both ways."
   ]
  },
  {
   "cell_type": "markdown",
   "id": "285dbbed-516e-4e5a-92d8-c25f2370215d",
   "metadata": {},
   "source": [
    "### Using `rref` method\n",
    "\n",
    "In Sympy, the `rref` method (reduced row echelon form) is used to compute the reduced row echelon form of a matrix.\n",
    "\n",
    "When you call the `rref` method on a matrix object, Sympy performs row operations to transform the matrix into its reduced row echelon form.the method returns a tuple containing two elements:\n",
    "\n",
    "1. The reduced row echelon form of the matrix.\n",
    "2. A tuple of pivot columns.\n",
    "\n",
    "Here's an example to illustrate how to use the `rref` method in Sympy:\n",
    "\n",
    "```python\n",
    "from sympy import Matrix\n",
    "\n",
    "matrix_data = [[1, 2, 3], [4, 5, 6], [7, 8, 9]]\n",
    "matrix = Matrix(matrix_data)\n",
    "\n",
    "rref_matrix, pivot_columns = matrix.rref()\n",
    "\n",
    "print(\"Reduced Row Echelon Form:\")\n",
    "print(rref_matrix)\n",
    "\n",
    "print(\"Pivot Columns:\")\n",
    "print(pivot_columns)\n",
    "```\n",
    "\n",
    "The output will be:\n",
    "```\n",
    "Reduced Row Echelon Form:\n",
    "Matrix([[1, 0, -1], [0, 1, 2], [0, 0, 0]])\n",
    "Pivot Columns:\n",
    "(0, 1)\n",
    "```\n",
    "\n",
    "In this example, the `rref` method is called on the `matrix` object. The resulting reduced row echelon form is stored in `rref_matrix`, and the pivot columns are stored in `pivot_columns`.\n",
    "\n",
    "The reduced row echelon form of the matrix shows the leading entry (or pivot) in each row as 1 and zeros below and above the pivot entries. The pivot columns represent the columns that contain the pivot entries."
   ]
  },
  {
   "cell_type": "code",
   "execution_count": 3,
   "id": "13a83b34-bfd2-413b-a475-dee6058b03ff",
   "metadata": {},
   "outputs": [
    {
     "name": "stdout",
     "output_type": "stream",
     "text": [
      "Reduced Row Echelon Form:\n",
      "Matrix([[1, 0, -1], [0, 1, 2], [0, 0, 0]])\n",
      "Pivot Columns:\n",
      "(0, 1)\n"
     ]
    }
   ],
   "source": [
    "from sympy import Matrix\n",
    "\n",
    "matrix_data = [[1, 2, 3], [4, 5, 6], [7, 8, 9]]\n",
    "matrix = Matrix(matrix_data)\n",
    "\n",
    "rref_matrix, pivot_columns = matrix.rref()\n",
    "\n",
    "print(\"Reduced Row Echelon Form:\")\n",
    "print(rref_matrix)\n",
    "\n",
    "print(\"Pivot Columns:\")\n",
    "print(pivot_columns)"
   ]
  },
  {
   "cell_type": "markdown",
   "id": "a423b858-cdd1-4eda-9e5d-1612bb3ef34f",
   "metadata": {},
   "source": [
    "#### Example 1: Solving with `rref` method\n",
    "\n",
    "Consider the following system of equations:\n",
    "\n",
    "$$\n",
    "\\begin{align}\n",
    "-x_1 + 2x_4 &= 4 \\\\\n",
    "3x_2 + x_3 + 2x_4 &= 3 \\\\\n",
    "4x_1 - 3x_2 + x_4  &= 14 \\\\\n",
    "2x_2 + 2x_3 + x_4 &= 1\n",
    "\\end{align}\n",
    "$$\n",
    "\n",
    "We will now use the `Matrix` class in SymPy module to create a matrix object and then use `rref` method to solve this system."
   ]
  },
  {
   "cell_type": "code",
   "execution_count": 28,
   "id": "dbc8ccc2-5824-4f85-a968-c23fa7e69777",
   "metadata": {},
   "outputs": [
    {
     "data": {
      "text/latex": [
       "$\\displaystyle \\left[\\begin{matrix}-1 & 0 & 0 & 2 & 4\\\\0 & 3 & 1 & 2 & 3\\\\4 & -3 & 0 & 1 & 14\\\\0 & 2 & 2 & 1 & 1\\end{matrix}\\right]$"
      ],
      "text/plain": [
       "Matrix([\n",
       "[-1,  0, 0, 2,  4],\n",
       "[ 0,  3, 1, 2,  3],\n",
       "[ 4, -3, 0, 1, 14],\n",
       "[ 0,  2, 2, 1,  1]])"
      ]
     },
     "execution_count": 28,
     "metadata": {},
     "output_type": "execute_result"
    }
   ],
   "source": [
    "from sympy import Matrix\n",
    "\n",
    "M = Matrix([\n",
    "    [-1, 0, 0, 2, 4],\n",
    "    [0, 3, 1, 2, 3],\n",
    "    [4, -3, 0, 1, 14],\n",
    "    [0, 2, 2, 1, 1]\n",
    "])\n",
    "\n",
    "M"
   ]
  },
  {
   "cell_type": "code",
   "execution_count": 29,
   "id": "687d426f-96e7-4ccc-8b4d-b497ba6ff4d8",
   "metadata": {},
   "outputs": [
    {
     "data": {
      "text/latex": [
       "$\\displaystyle \\left[\\begin{matrix}1 & 0 & 0 & 0 & 2\\\\0 & 1 & 0 & 0 & -1\\\\0 & 0 & 1 & 0 & 0\\\\0 & 0 & 0 & 1 & 3\\end{matrix}\\right]$"
      ],
      "text/plain": [
       "Matrix([\n",
       "[1, 0, 0, 0,  2],\n",
       "[0, 1, 0, 0, -1],\n",
       "[0, 0, 1, 0,  0],\n",
       "[0, 0, 0, 1,  3]])"
      ]
     },
     "execution_count": 29,
     "metadata": {},
     "output_type": "execute_result"
    }
   ],
   "source": [
    "M_rref, pivots = M.rref()\n",
    "\n",
    "M_rref"
   ]
  },
  {
   "cell_type": "markdown",
   "id": "9f392e46-baa7-4077-9754-e98366744caa",
   "metadata": {},
   "source": [
    "By examining the reduced row echelon form (RREF) matrix, we can determine the solution to this system of equations:\n",
    "\n",
    "$$\n",
    "\\begin{align}\n",
    "x_1 &= 2 \\\\\n",
    "x_2 &= -1 \\\\\n",
    "x_3 &= 0 \\\\\n",
    "x_4 &= 3\n",
    "\\end{align}\n",
    "$$"
   ]
  },
  {
   "cell_type": "markdown",
   "id": "875e5916-8e79-4e44-8483-13611b50548a",
   "metadata": {},
   "source": [
    "#### Example 2: A system with infinitely many solutions\n",
    "\n",
    "Consider the following system of equations:\n",
    "\n",
    "$$\n",
    "\\begin{align}\n",
    "-x - 2y + 2z &= -1 \\\\\n",
    "2x + 4y -z &= 5 \\\\\n",
    "x + 2y &= 3\n",
    "\\end{align}\n",
    "$$\n",
    "\n",
    "Let's solve it using `rref` method."
   ]
  },
  {
   "cell_type": "code",
   "execution_count": 8,
   "id": "8cd44c10-278a-431c-abdd-e78917a6af1a",
   "metadata": {},
   "outputs": [
    {
     "data": {
      "text/latex": [
       "$\\displaystyle \\left[\\begin{matrix}-1 & -2 & 2 & -1\\\\2 & 4 & -1 & 5\\\\1 & 2 & 0 & 3\\end{matrix}\\right]$"
      ],
      "text/plain": [
       "Matrix([\n",
       "[-1, -2,  2, -1],\n",
       "[ 2,  4, -1,  5],\n",
       "[ 1,  2,  0,  3]])"
      ]
     },
     "execution_count": 8,
     "metadata": {},
     "output_type": "execute_result"
    }
   ],
   "source": [
    "from sympy import Matrix\n",
    "\n",
    "M = Matrix([\n",
    "    [-1, -2, 2, -1],\n",
    "    [2, 4, -1, 5],\n",
    "    [1, 2, 0, 3],\n",
    "])\n",
    "\n",
    "M"
   ]
  },
  {
   "cell_type": "code",
   "execution_count": 11,
   "id": "74baa5bd-3bec-4143-a487-c2549c5fe2d4",
   "metadata": {},
   "outputs": [
    {
     "data": {
      "text/latex": [
       "$\\displaystyle \\left[\\begin{matrix}1 & 2 & 0 & 3\\\\0 & 0 & 1 & 1\\\\0 & 0 & 0 & 0\\end{matrix}\\right]$"
      ],
      "text/plain": [
       "Matrix([\n",
       "[1, 2, 0, 3],\n",
       "[0, 0, 1, 1],\n",
       "[0, 0, 0, 0]])"
      ]
     },
     "execution_count": 11,
     "metadata": {},
     "output_type": "execute_result"
    }
   ],
   "source": [
    "M_rref, pivots = M.rref()\n",
    "\n",
    "M_rref"
   ]
  },
  {
   "cell_type": "markdown",
   "id": "a800efe4-ec6a-4678-8ba2-9868b4289db8",
   "metadata": {},
   "source": [
    "Which describes the solution space as follows:\n",
    "\n",
    "$$\n",
    "\\begin{align}\n",
    "    x &= 3 - 2y \\\\\n",
    "    z &= 1 \\\\\n",
    "    y &\\in \\mathbb{R}\n",
    "\\end{align}\n",
    "$$"
   ]
  },
  {
   "cell_type": "markdown",
   "id": "df9168dd-bc9e-4e1e-a433-2b4e7d138225",
   "metadata": {},
   "source": [
    "### Using `symols`, `Eq` objects, and `solve` function\n",
    "\n",
    "The second way offers a simpler approach for solving a linear system of equations. To find the solution, you can proceed by following these instructions.\n",
    "\n",
    "1. Import the necessary modules:\n",
    "```python\n",
    "from sympy import symbols, Eq, solve\n",
    "```\n",
    "2. Define the variables and equations:\n",
    "```python\n",
    "x, y = symbols('x y')\n",
    "equations = [\n",
    "    Eq(2*x + 3*y, 6)\n",
    "    Eq(4*x - 2*y, 2)\n",
    "]\n",
    "```\n",
    "Here, `x` and `y` are the variables, and `equations` represents the list of equations.\n",
    "\n",
    "3. Solve the system of equations:\n",
    "```python\n",
    "solution = solve(equations, (x, y))\n",
    "```\n",
    "The `solve` function takes two arguments: a list of equations `equations` and a tuple of variables `(x, y)`.\n",
    "\n",
    "Here's a complete example that solves a system of linear equations:\n",
    "\n",
    "```python\n",
    "from sympy import symbols, Eq, solve\n",
    "\n",
    "x, y = symbols('x y')\n",
    "equations = [\n",
    "    Eq(2*x + 3*y, 6)\n",
    "    Eq(4*x - 2*y, 2)\n",
    "]\n",
    "\n",
    "solution = solve(equations, (x, y))\n",
    "print(solution)\n",
    "```\n",
    "\n",
    "The output will be:\n",
    "```\n",
    "{x: 5/4, y: 2/3}\n",
    "```\n",
    "\n",
    "This means that the solution to the system of equations is `x = 5/4` and `y = 2/3`."
   ]
  },
  {
   "cell_type": "code",
   "execution_count": 18,
   "id": "1e0c705c-55e8-4f48-8a6a-a5b570795c52",
   "metadata": {},
   "outputs": [
    {
     "name": "stdout",
     "output_type": "stream",
     "text": [
      "{x: 9/8, y: 5/4}\n"
     ]
    }
   ],
   "source": [
    "from sympy import symbols, Eq, solve\n",
    "\n",
    "x, y = symbols('x y')\n",
    "equations = [\n",
    "    Eq(2*x + 3*y, 6),\n",
    "    Eq(4*x - 2*y, 2)\n",
    "]\n",
    "\n",
    "solution = solve(equations, (x, y))\n",
    "print(solution)"
   ]
  },
  {
   "cell_type": "markdown",
   "id": "bb2eeb2f-238a-4309-8d37-54e2e3b2e60d",
   "metadata": {},
   "source": [
    "#### Example 3: Solving using second way\n",
    "\n",
    "Consider the following system of equations:\n",
    "\n",
    "$$\n",
    "\\begin{align}\n",
    "-x_1 + 2x_4 &= 4 \\\\\n",
    "3x_2 + x_3 + 2x_4 &= 3 \\\\\n",
    "4x_1 - 3x_2 + x_4  &= 14 \\\\\n",
    "2x_2 + 2x_3 + x_4 &= 1\n",
    "\\end{align}\n",
    "$$\n",
    "\n",
    "We now use `symbols`, `Eq` and `solve` to find the solution space for this system."
   ]
  },
  {
   "cell_type": "code",
   "execution_count": 1,
   "id": "905f8616-d3ea-4436-bf28-48a6e44829c5",
   "metadata": {},
   "outputs": [
    {
     "name": "stdout",
     "output_type": "stream",
     "text": [
      "{x_1: 2, x_2: -1, x_3: 0, x_4: 3}\n"
     ]
    }
   ],
   "source": [
    "from sympy import symbols, Eq, solve\n",
    "\n",
    "x_1, x_2, x_3, x_4 = symbols('x_1 x_2 x_3 x_4')\n",
    "equations = [\n",
    "    Eq(-x_1 + 2 * x_4, 4),\n",
    "    Eq(3 * x_2 + x_3 + 2 * x_4, 3),\n",
    "    Eq(4 * x_1 - 3 * x_2 + x_4, 14),\n",
    "    Eq(2 * x_2 + 2 * x_3 + x_4, 1)\n",
    "]\n",
    "\n",
    "solution = solve(equations, (x_1, x_2, x_3, x_4))\n",
    "\n",
    "print(solution)"
   ]
  },
  {
   "cell_type": "markdown",
   "id": "2c02fdb9-553c-48e0-b7c1-98085fdea9e9",
   "metadata": {},
   "source": [
    "So the solution is:\n",
    "\n",
    "$$\n",
    "\\begin{align}\n",
    "x_1 &= 2 \\\\\n",
    "x_2 &= -1 \\\\\n",
    "x_3 &= 0 \\\\\n",
    "x_4 &= 3\n",
    "\\end{align}\n",
    "$$"
   ]
  },
  {
   "cell_type": "markdown",
   "id": "0cd2d00f-c24c-4b11-809d-262dee589baa",
   "metadata": {},
   "source": [
    "#### Example 4: A system with infinitely many solutions\n",
    "\n",
    "Consider the following system of equations:\n",
    "\n",
    "$$\n",
    "\\begin{align}\n",
    "-x - 2y + 2z &= -1 \\\\\n",
    "2x + 4y -z &= 5 \\\\\n",
    "x + 2y &= 3\n",
    "\\end{align}\n",
    "$$\n",
    "\n",
    "Let's use `symbols`, `Eq` and `solve` to find the solution space for this system."
   ]
  },
  {
   "cell_type": "code",
   "execution_count": 2,
   "id": "9bec99bd-2959-4399-a8ae-bef1ddcbf378",
   "metadata": {},
   "outputs": [
    {
     "name": "stdout",
     "output_type": "stream",
     "text": [
      "{x: 3 - 2*y, z: 1}\n"
     ]
    }
   ],
   "source": [
    "from sympy import symbols, Eq, solve\n",
    "\n",
    "x, y, z = symbols('x y z')\n",
    "equations = [\n",
    "    Eq(-x - 2 * y + 2 * z, -1),\n",
    "    Eq(2 * x + 4 * y - z, 5),\n",
    "    Eq(x + 2 * y, 3),\n",
    "]\n",
    "\n",
    "solution = solve(equations, (x, y, z))\n",
    "\n",
    "print(solution)"
   ]
  },
  {
   "cell_type": "markdown",
   "id": "05a01c10-12c9-44ab-a8d8-0e68719271b2",
   "metadata": {},
   "source": [
    "So the solution space is:\n",
    "\n",
    "$$\n",
    "\\begin{align}\n",
    "    x &= 3 - 2y \\\\\n",
    "    z &= 1 \\\\\n",
    "    y &\\in \\mathbb{R}\n",
    "\\end{align}\n",
    "$$"
   ]
  }
 ],
 "metadata": {
  "kernelspec": {
   "display_name": "Python 3 (ipykernel)",
   "language": "python",
   "name": "python3"
  },
  "language_info": {
   "codemirror_mode": {
    "name": "ipython",
    "version": 3
   },
   "file_extension": ".py",
   "mimetype": "text/x-python",
   "name": "python",
   "nbconvert_exporter": "python",
   "pygments_lexer": "ipython3",
   "version": "3.11.4"
  }
 },
 "nbformat": 4,
 "nbformat_minor": 5
}
