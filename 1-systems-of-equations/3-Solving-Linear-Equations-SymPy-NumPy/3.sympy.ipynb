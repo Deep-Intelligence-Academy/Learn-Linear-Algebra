{
 "cells": [
  {
   "cell_type": "markdown",
   "id": "a5afa231-8cf4-4798-a15f-46adb45f74bd",
   "metadata": {},
   "source": [
    "## SymPy\n",
    "\n",
    "SymPy is a Python library for symbolic mathematics. It provides a powerful set of features to manipulate mathematical expressions symbolically rather than numerically. It can perform tasks such as algebraic operations, calculus, equation solving, matrix operations, and much more.\n",
    "\n",
    "To install SymPy, you can use pip. Here are the steps to install SymPy:\n",
    "\n",
    "1. Make sure you have Python installed on your system. SymPy is compatible with Python 3.x versions.\n",
    "\n",
    "2. Open a terminal or command prompt.\n",
    "\n",
    "3. Run the following command to install SymPy using pip:\n",
    "\n",
    "   ```\n",
    "   pip install sympy\n",
    "   ```\n",
    "\n",
    "   This command will download and install the SymPy library and its dependencies.\n",
    "\n",
    "4. Wait for the installation to complete. Once it's finished, you should see a message indicating that SymPy has been successfully installed.\n",
    "\n",
    "That's it! You have successfully installed SymPy on your system. You can now start using it in your Python programs by importing the sympy module. Here's an example:\n",
    "\n",
    "```python\n",
    "import sympy\n",
    "\n",
    "x = sympy.Symbol('x')\n",
    "expr = x**2 + 3*x - 2\n",
    "roots = sympy.solve(expr, x)\n",
    "print(roots)\n",
    "```\n",
    "\n",
    "In this example, we import the `sympy` module and create a symbolic variable `x`. We define an expression `expr` and then use the `solve` function to find the roots of the equation. Finally, we print the roots.\n",
    "\n",
    "SymPy provides a rich set of functions and capabilities for symbolic mathematics."
   ]
  },
  {
   "cell_type": "code",
   "execution_count": 1,
   "id": "1da9f52e-94f1-450e-8798-56800ddb580a",
   "metadata": {},
   "outputs": [
    {
     "name": "stdout",
     "output_type": "stream",
     "text": [
      "[-3/2 + sqrt(17)/2, -sqrt(17)/2 - 3/2]\n"
     ]
    }
   ],
   "source": [
    "import sympy\n",
    "\n",
    "x = sympy.Symbol('x')\n",
    "expr = x**2 + 3*x - 2\n",
    "roots = sympy.solve(expr, x)\n",
    "print(roots)"
   ]
  },
  {
   "cell_type": "markdown",
   "id": "4f484bd3-8dd5-48b7-b3e4-635856b56b4a",
   "metadata": {},
   "source": [
    "### SymPy Matrix\n",
    "\n",
    "To create a matrix in Sympy, you can use the `Matrix` class provided by the library. Here's how you can create a matrix step by step:\n",
    "\n",
    "1. Import the necessary modules:\n",
    "```python\n",
    "from sympy import Matrix\n",
    "```\n",
    "\n",
    "2. Define the elements of the matrix:\n",
    "```python\n",
    "matrix_data = [[1, 2, 3], [4, 5, 6], [7, 8, 9]]\n",
    "```\n",
    "Here, `matrix_data` is a nested list that represents the elements of the matrix. Each sublist represents a row of the matrix.\n",
    "\n",
    "3. Create the matrix object:\n",
    "```python\n",
    "matrix = Matrix(matrix_data)\n",
    "```\n",
    "The `Matrix` class takes the matrix data as an argument to create the matrix object.\n",
    "\n",
    "Here's a complete example that demonstrates the creation of a matrix:\n",
    "\n",
    "```python\n",
    "from sympy import Matrix\n",
    "\n",
    "matrix_data = [[1, 2, 3], [4, 5, 6], [7, 8, 9]]\n",
    "matrix = Matrix(matrix_data)\n",
    "print(matrix)\n",
    "```\n",
    "\n",
    "The output will be:\n",
    "```\n",
    "Matrix([[1, 2, 3], [4, 5, 6], [7, 8, 9]])\n",
    "```\n",
    "\n",
    "This shows the matrix with three rows and three columns. Each element is displayed within the matrix structure.\n",
    "\n",
    "You can also access individual elements of the matrix using indexing. For example, to access the element in the second row and third column, you can use `matrix[1, 2]` (remember that indexing starts from 0).\n",
    "\n",
    "Sympy's `Matrix` class provides various methods to perform matrix operations like addition, subtraction, multiplication, inversion, and more. You can refer to the Sympy documentation for more details on matrix operations and functions: https://docs.sympy.org/latest/modules/matrices/matrices.html"
   ]
  },
  {
   "cell_type": "code",
   "execution_count": 2,
   "id": "29cc4407-6c9f-479a-9ae8-e7964c8b8886",
   "metadata": {},
   "outputs": [
    {
     "name": "stdout",
     "output_type": "stream",
     "text": [
      "Matrix([[1, 2, 3], [4, 5, 6], [7, 8, 9]])\n"
     ]
    }
   ],
   "source": [
    "from sympy import Matrix\n",
    "\n",
    "matrix_data = [[1, 2, 3], [4, 5, 6], [7, 8, 9]]\n",
    "matrix = Matrix(matrix_data)\n",
    "print(matrix)"
   ]
  },
  {
   "cell_type": "code",
   "execution_count": 3,
   "id": "2fcdd5c7-ada3-4101-bf98-8122556f9d30",
   "metadata": {},
   "outputs": [
    {
     "data": {
      "text/latex": [
       "$\\displaystyle \\left[\\begin{matrix}1 & 2 & 3\\\\4 & 5 & 6\\\\7 & 8 & 9\\end{matrix}\\right]$"
      ],
      "text/plain": [
       "Matrix([\n",
       "[1, 2, 3],\n",
       "[4, 5, 6],\n",
       "[7, 8, 9]])"
      ]
     },
     "execution_count": 3,
     "metadata": {},
     "output_type": "execute_result"
    }
   ],
   "source": [
    "matrix"
   ]
  }
 ],
 "metadata": {
  "kernelspec": {
   "display_name": "Python 3 (ipykernel)",
   "language": "python",
   "name": "python3"
  },
  "language_info": {
   "codemirror_mode": {
    "name": "ipython",
    "version": 3
   },
   "file_extension": ".py",
   "mimetype": "text/x-python",
   "name": "python",
   "nbconvert_exporter": "python",
   "pygments_lexer": "ipython3",
   "version": "3.11.4"
  }
 },
 "nbformat": 4,
 "nbformat_minor": 5
}
