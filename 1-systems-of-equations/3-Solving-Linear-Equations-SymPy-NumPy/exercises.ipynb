{
 "cells": [
  {
   "cell_type": "markdown",
   "id": "63f61807-e0ff-4d85-999d-1d8b84e2f84f",
   "metadata": {},
   "source": [
    "### Exercises"
   ]
  },
  {
   "cell_type": "markdown",
   "id": "71edd96a-4220-4cfa-a35b-93b94fbed8da",
   "metadata": {},
   "source": [
    "#### Exercise 1-5\n",
    "\n",
    "Solve exercise 1-5 from section three of first chapter of [Understanding Linear Algebra Book](https://understandinglinearalgebra.org/sec-sage-introduction.html), but use NumPy and SymPy to solve them instead of sage."
   ]
  }
 ],
 "metadata": {
  "kernelspec": {
   "display_name": "Python 3 (ipykernel)",
   "language": "python",
   "name": "python3"
  },
  "language_info": {
   "codemirror_mode": {
    "name": "ipython",
    "version": 3
   },
   "file_extension": ".py",
   "mimetype": "text/x-python",
   "name": "python",
   "nbconvert_exporter": "python",
   "pygments_lexer": "ipython3",
   "version": "3.11.4"
  }
 },
 "nbformat": 4,
 "nbformat_minor": 5
}
