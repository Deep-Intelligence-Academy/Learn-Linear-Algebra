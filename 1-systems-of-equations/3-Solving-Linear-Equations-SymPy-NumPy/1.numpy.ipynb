{
 "cells": [
  {
   "cell_type": "markdown",
   "id": "58f97b59-036a-403a-bed4-710f1fd62210",
   "metadata": {
    "tags": []
   },
   "source": [
    "## Numpy\n",
    "\n",
    "[NumPy](https://numpy.org/) is a powerful numerical computing library for Python. It stands for \"Numerical Python.\" NumPy provides support for large, multi-dimensional arrays and matrices, along with a collection of mathematical functions to operate on these arrays efficiently.\n",
    "\n",
    "Here are some key features and functionalities of the NumPy library:\n",
    "\n",
    "1. **Multi-dimensional Arrays:** NumPy's main feature is the `ndarray` (N-dimensional array) object. It allows you to store and manipulate large arrays of homogeneous data efficiently. These arrays can be one-dimensional, two-dimensional, or multi-dimensional.\n",
    "\n",
    "1. **Efficient Mathematical Operations:** NumPy provides a wide range of mathematical functions that operate element-wise on arrays. These functions are optimized for performance and can perform operations such as addition, subtraction, multiplication, division, exponentiation, trigonometric functions, logarithmic functions, and more.\n",
    "\n",
    "1. **Broadcasting:** Broadcasting is a powerful feature of NumPy that allows arrays with different shapes to be used in arithmetic operations. NumPy automatically adjusts the shapes of arrays to make them compatible, making it easier to perform mathematical operations on arrays of different sizes.\n",
    "\n",
    "1. **Linear Algebra Operations:** NumPy includes a comprehensive set of linear algebra functions. You can perform operations like matrix multiplication, matrix factorization, solving linear equations, computing eigenvalues and eigenvectors, and more.\n",
    "\n",
    "1. **Random Number Generation:** NumPy provides various functions for generating random numbers. These functions are useful for tasks such as generating random data for simulations, random sampling, and statistical analysis.\n",
    "\n",
    "1. **Integration with Other Libraries:** NumPy forms the foundation for many other scientific computing libraries in Python, such as SciPy, pandas, and scikit-learn. These libraries build on top of NumPy to provide additional functionality for scientific computing, data analysis, and machine learning.\n",
    "\n",
    "NumPy's array-based approach to computation offers significant advantages over traditional Python lists, such as better performance and memory efficiency. It is widely used in scientific and numerical computing applications, including fields like physics, data science, machine learning, image processing, and more.\n",
    "\n",
    "To install NumPy, open command line and type: `pip install numpy`\n",
    "\n",
    "To use NumPy in your Python programs, you need to import the library by including the following line at the beginning of your code:\n",
    "\n",
    "```python\n",
    "import numpy as np\n",
    "```\n",
    "\n",
    "This imports the NumPy library and allows you to access its functions and classes using the `np` namespace."
   ]
  },
  {
   "cell_type": "markdown",
   "id": "f4ca8ad8-eccb-4535-8b4f-300ce1b827d8",
   "metadata": {},
   "source": [
    "### Numpy arrays\n",
    "\n",
    "\n",
    "NumPy arrays, also known as ndarrays (N-dimensional arrays), are the fundamental data structure provided by the NumPy library. They are homogeneous, meaning that all elements in an array must have the same data type. NumPy arrays are similar to Python lists but offer several advantages, including efficient storage, fast element-wise operations, and mathematical functions optimized for array computations.\n",
    "\n",
    "Here are some key characteristics and features of NumPy arrays:\n",
    "\n",
    "1. **Homogeneous Data Type:** Unlike Python lists, NumPy arrays require all elements to have the same data type. This uniformity allows for efficient storage and optimized computations.\n",
    "\n",
    "1. **N-Dimensional:** NumPy arrays can have one or more dimensions. Commonly used are one-dimensional arrays (vectors) and two-dimensional arrays (matrices), but NumPy supports multi-dimensional arrays as well.\n",
    "\n",
    "1. **Fixed Size:** The size of a NumPy array is fixed upon creation. Once created, the size cannot be changed. If you need to modify the size, you'll need to create a new array.\n",
    "\n",
    "1. **Efficient Storage:** NumPy arrays are stored in a contiguous block of memory, which makes accessing and manipulating elements faster compared to Python lists. This memory layout also enables efficient data transfer between NumPy arrays and other libraries written in low-level languages like C and Fortran.\n",
    "\n",
    "1. **Fast Element-Wise Operations:** NumPy provides a wide range of mathematical functions that can be applied to entire arrays or specific elements without using explicit loops. These functions are implemented in C, which makes them significantly faster than equivalent operations performed on Python lists.\n",
    "\n",
    "1. **Indexing and Slicing:** NumPy arrays support advanced indexing and slicing operations. You can access individual elements, extract subarrays, and modify specific elements or sections of an array using slicing syntax.\n",
    "\n",
    "1. **Broadcasting:** Broadcasting is a powerful feature of NumPy that allows for arithmetic operations between arrays of different shapes. NumPy automatically adjusts the shapes of arrays to make them compatible, which simplifies writing vectorized code.\n",
    "\n",
    "1. **Integration with Other Libraries:** NumPy arrays serve as the foundation for many other scientific computing libraries in Python. They are used as input and output for functions in libraries such as SciPy, pandas, scikit-learn, and more.\n",
    "\n",
    "To create a NumPy array, you can use the `np.array()` function and pass a sequence-like object such as a list or tuple. For example:\n",
    "\n",
    "```python\n",
    "import numpy as np\n",
    "\n",
    "# Creating a 1-dimensional array\n",
    "arr_1 = np.array([1, 2, 3, 4, 5])\n",
    "\n",
    "# Creating a 2-dimensional array\n",
    "arr_2 = np.array([[1, 2, 3], [4, 5, 6]])\n",
    "```\n",
    "\n",
    "NumPy arrays provide a versatile and efficient way to work with numerical data in Python, enabling high-performance scientific computing and data analysis tasks."
   ]
  },
  {
   "cell_type": "code",
   "execution_count": 8,
   "id": "6452d42d-d01c-4dac-ab51-36c8c6daeaf2",
   "metadata": {},
   "outputs": [],
   "source": [
    "import numpy as np"
   ]
  },
  {
   "cell_type": "code",
   "execution_count": 9,
   "id": "0b8d71a3-029f-44f1-a160-e4f1af1660b5",
   "metadata": {},
   "outputs": [
    {
     "name": "stdout",
     "output_type": "stream",
     "text": [
      "<class 'numpy.ndarray'>\n",
      "[1 2 3 4 5]\n"
     ]
    }
   ],
   "source": [
    "arr_1 = np.array([1, 2, 3, 4, 5])\n",
    "print(type(arr_1))\n",
    "print(arr_1)"
   ]
  },
  {
   "cell_type": "code",
   "execution_count": 10,
   "id": "ae989f50-61ad-49f2-ad56-49601119f9b0",
   "metadata": {},
   "outputs": [
    {
     "name": "stdout",
     "output_type": "stream",
     "text": [
      "[[1 2 3]\n",
      " [4 5 6]]\n"
     ]
    }
   ],
   "source": [
    "arr_2 = np.array([[1, 2, 3], [4, 5, 6]])\n",
    "print(arr_2)"
   ]
  },
  {
   "cell_type": "markdown",
   "id": "00ff8696-b508-4545-a1fa-fa363a0322b1",
   "metadata": {},
   "source": [
    "### NumPy `dtypes`\n",
    "\n",
    "In NumPy, data types (dtypes) are an essential aspect of arrays. NumPy provides a wide range of data types that allow you to specify the type and size of elements stored in arrays. These dtypes provide control over the memory allocation and interpretation of array values, enabling efficient storage and computation of numerical data.\n",
    "\n",
    "Here are some commonly used NumPy dtypes:\n",
    "\n",
    "1. **Integer dtypes:**\n",
    "\n",
    "   - `int8`, `int16`, `int32`, `int64`: Signed integer types with different sizes (8, 16, 32, or 64 bits).\n",
    "   - `uint8`, `uint16`, `uint32`, `uint64`: Unsigned integer types with different sizes.\n",
    "   - `int`, `uint`: Default-sized integer types (platform-dependent, typically same as `int32` or `int64`).\n",
    "\n",
    "1. **Floating-Point dtypes:**\n",
    "\n",
    "   - `float16`, `float32`, `float64`: Floating-point types with different precision (16, 32, or 64 bits).\n",
    "   - `float`: Default-sized floating-point type (platform-dependent, typically same as `float64`).\n",
    "   - `complex64`, `complex128`: Complex number types with different precision.\n",
    "\n",
    "1. **Boolean dtype:**\n",
    "\n",
    "   - `bool`: Represents boolean values, either `True` or `False`.\n",
    "\n",
    "1. **String dtypes:**\n",
    "\n",
    "   - `str_`, `unicode_`: String types for storing text data.\n",
    "\n",
    "1. **Datetime dtypes:**\n",
    "\n",
    "   - `datetime64`: Represents dates and times with various precision (e.g., `datetime64[D]` for daily precision).\n",
    "   - `timedelta64`: Represents differences between dates and times.\n",
    "\n",
    "NumPy dtypes are characterized by a uniform fixed size, enabling efficient storage and computation of arrays in memory. By specifying the desired dtype when creating an array, you can control the memory usage and ensure the appropriate representation of data. For example:\n",
    "\n",
    "```python\n",
    "import numpy as np\n",
    "\n",
    "# Create an array of integers with dtype int32\n",
    "arr1 = np.array([1, 2, 3], dtype=np.int32)\n",
    "\n",
    "# Create an array of floating-point numbers with dtype float64\n",
    "arr2 = np.array([1.0, 2.0, 3.0], dtype=np.float64)\n",
    "\n",
    "# Create an array of booleans with dtype bool\n",
    "arr3 = np.array([True, False, True], dtype=np.bool_)\n",
    "```\n",
    "\n",
    "In addition to explicitly specifying the dtype during array creation, NumPy also provides functions to inspect and modify the dtype of existing arrays, such as `arr.dtype`, `arr.astype()`, and more.\n",
    "\n",
    "Understanding and utilizing NumPy dtypes is crucial for efficient memory usage, compatibility with other libraries, and performing numerical computations accurately."
   ]
  },
  {
   "cell_type": "code",
   "execution_count": 15,
   "id": "3dd39dd0-bbdd-4f21-adde-23f4fab6d789",
   "metadata": {},
   "outputs": [],
   "source": [
    "import numpy as np\n",
    "\n",
    "arr1 = np.array([1, 2, 3], dtype=np.int32)\n",
    "\n",
    "arr2 = np.array([1.0, 2.0, 3.0], dtype=np.float64)\n",
    "\n",
    "arr3 = np.array([True, False, True], dtype=np.bool_)"
   ]
  },
  {
   "cell_type": "markdown",
   "id": "dc3bc80f-3f89-48e2-ab6f-216afefffb2b",
   "metadata": {},
   "source": [
    "### Array dimension and shape\n",
    "\n",
    "In NumPy, an array dimension refers to the number of indices required to access an element in an array. It represents the size or length of the array along a specific axis. For example, a 1-dimensional array has only one dimension and can be accessed using a single index, whereas a 2-dimensional array has two dimensions and requires two indices to access an element.\n",
    "\n",
    "The shape of an array in NumPy refers to the size of each dimension of the array. It is a tuple of integers that specifies the number of elements along each axis. The shape of an array provides information about the size of the array in each dimension.\n",
    "\n",
    "Let's illustrate this with an example:\n",
    "\n",
    "```python\n",
    "import numpy as np\n",
    "\n",
    "# Create a 1-dimensional array\n",
    "arr_1d = np.array([1, 2, 3, 4, 5])\n",
    "print(\"1D array:\")\n",
    "print(arr_1d)\n",
    "print(\"Shape:\", arr_1d.shape)\n",
    "# Output:\n",
    "# 1D array:\n",
    "# [1 2 3 4 5]\n",
    "# Shape: (5,)\n",
    "\n",
    "# Create a 2-dimensional array\n",
    "arr_2d = np.array([[1, 2, 3], [4, 5, 6]])\n",
    "print(\"\\n2D array:\")\n",
    "print(arr_2d)\n",
    "print(\"Shape:\", arr_2d.shape)\n",
    "# Output:\n",
    "# 2D array:\n",
    "# [[1 2 3]\n",
    "#  [4 5 6]]\n",
    "# Shape: (2, 3)\n",
    "\n",
    "# Create a 3-dimensional array\n",
    "arr_3d = np.array([[[1, 2], [3, 4]], [[5, 6], [7, 8]]])\n",
    "print(\"\\n3D array:\")\n",
    "print(arr_3d)\n",
    "print(\"Shape:\", arr_3d.shape)\n",
    "# Output:\n",
    "# 3D array:\n",
    "# [[[1 2]\n",
    "#   [3 4]]\n",
    "#\n",
    "#  [[5 6]\n",
    "#   [7 8]]]\n",
    "# Shape: (2, 2, 2)\n",
    "```\n",
    "\n",
    "In the example above, we create arrays with different dimensions using NumPy. We then print the arrays and their respective shapes. The shape of `arr_1d` is `(5,)`, indicating that it is a 1-dimensional array with 5 elements. The shape of `arr_2d` is `(2, 3)`, indicating that it is a 2-dimensional array with 2 rows and 3 columns. Finally, the shape of `arr_3d` is `(2, 2, 2)`, indicating that it is a 3-dimensional array with 2 layers, each containing 2 rows and 2 columns."
   ]
  },
  {
   "cell_type": "code",
   "execution_count": 1,
   "id": "e4dfe8c3-c380-4f12-b45d-5da1d5d06ab6",
   "metadata": {},
   "outputs": [
    {
     "name": "stdout",
     "output_type": "stream",
     "text": [
      "1D array:\n",
      "[1 2 3 4 5]\n",
      "Shape: (5,)\n"
     ]
    }
   ],
   "source": [
    "import numpy as np\n",
    "\n",
    "arr_1d = np.array([1, 2, 3, 4, 5])\n",
    "print(\"1D array:\")\n",
    "print(arr_1d)\n",
    "print(\"Shape:\", arr_1d.shape)"
   ]
  },
  {
   "cell_type": "code",
   "execution_count": 2,
   "id": "5d808193-d090-416e-8b44-2a94d0e020a8",
   "metadata": {},
   "outputs": [
    {
     "name": "stdout",
     "output_type": "stream",
     "text": [
      "\n",
      "2D array:\n",
      "[[1 2 3]\n",
      " [4 5 6]]\n",
      "Shape: (2, 3)\n"
     ]
    }
   ],
   "source": [
    "arr_2d = np.array([[1, 2, 3], [4, 5, 6]])\n",
    "print(\"\\n2D array:\")\n",
    "print(arr_2d)\n",
    "print(\"Shape:\", arr_2d.shape)"
   ]
  },
  {
   "cell_type": "code",
   "execution_count": 3,
   "id": "0a5a39f2-0dd1-4efb-81d2-c1d130bbbd52",
   "metadata": {},
   "outputs": [
    {
     "name": "stdout",
     "output_type": "stream",
     "text": [
      "\n",
      "3D array:\n",
      "[[[1 2]\n",
      "  [3 4]]\n",
      "\n",
      " [[5 6]\n",
      "  [7 8]]]\n",
      "Shape: (2, 2, 2)\n"
     ]
    }
   ],
   "source": [
    "arr_3d = np.array([[[1, 2], [3, 4]], [[5, 6], [7, 8]]])\n",
    "print(\"\\n3D array:\")\n",
    "print(arr_3d)\n",
    "print(\"Shape:\", arr_3d.shape)"
   ]
  }
 ],
 "metadata": {
  "kernelspec": {
   "display_name": "Python 3 (ipykernel)",
   "language": "python",
   "name": "python3"
  },
  "language_info": {
   "codemirror_mode": {
    "name": "ipython",
    "version": 3
   },
   "file_extension": ".py",
   "mimetype": "text/x-python",
   "name": "python",
   "nbconvert_exporter": "python",
   "pygments_lexer": "ipython3",
   "version": "3.11.4"
  }
 },
 "nbformat": 4,
 "nbformat_minor": 5
}
