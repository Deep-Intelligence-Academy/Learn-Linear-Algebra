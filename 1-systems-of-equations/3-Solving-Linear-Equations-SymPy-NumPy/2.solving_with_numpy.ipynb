{
 "cells": [
  {
   "cell_type": "markdown",
   "id": "b143d0a8-eaaa-44e0-879f-09109d7848e0",
   "metadata": {},
   "source": [
    "## Solving a linear system of equations with NumPy\n",
    "\n",
    "To solve a system of linear equations using NumPy, you can utilize the `numpy.linalg.solve` function. This function solves the equation `Ax = b`, where `A` is the coefficient matrix, `x` is the vector of variables, and `b` is the constant vector.\n",
    "\n",
    "Here's an example of how you can use NumPy to solve a system of linear equations:\n",
    "\n",
    "```python\n",
    "import numpy as np\n",
    "\n",
    "# Define the coefficient matrix A\n",
    "A = np.array([[2, 1], [1, -1]])\n",
    "\n",
    "# Define the constant vector b\n",
    "b = np.array([1, 0])\n",
    "\n",
    "# Solve the system of linear equations\n",
    "x = np.linalg.solve(A, b)\n",
    "\n",
    "# Print the solution\n",
    "print(\"Solution:\")\n",
    "print(x)\n",
    "```\n",
    "\n",
    "In this example, we have a system of two equations:\n",
    "\n",
    "$$\n",
    "\\begin{align}\n",
    "2x + y &= 1 \\\\\n",
    " x - y &= 0\n",
    "\\end{align}\n",
    "$$\n",
    "\n",
    "By defining the coefficient matrix `A` and the constant vector `b`, we can use `np.linalg.solve(A, b)` to find the solution vector `x`. The solution will be printed as `[x, y]`.\n",
    "\n",
    "Note that the `numpy.linalg.solve` function assumes that the system of equations has a unique solution. If the system is inconsistent or has infinitely many solutions, the function will raise a `LinAlgError`."
   ]
  },
  {
   "cell_type": "code",
   "execution_count": 1,
   "id": "eb136b6d-922c-4e51-8fce-8f8ebb3ce6ec",
   "metadata": {},
   "outputs": [
    {
     "name": "stdout",
     "output_type": "stream",
     "text": [
      "Solution:\n",
      "[0.33333333 0.33333333]\n"
     ]
    }
   ],
   "source": [
    "import numpy as np\n",
    "\n",
    "A = np.array([[2, 1], [1, -1]])\n",
    "b = np.array([1, 0])\n",
    "\n",
    "x = np.linalg.solve(A, b)\n",
    "\n",
    "print(\"Solution:\")\n",
    "print(x)"
   ]
  },
  {
   "cell_type": "markdown",
   "id": "6be828fd-c9dd-421b-bcee-642e14a5e92c",
   "metadata": {},
   "source": [
    "### When can we use `np.linalg.solve`\n",
    "\n",
    "You can use `numpy.linalg.solve` function to solve a linear system of equations when the coefficient matrix is non-singular. In the context of solving a system of linear equations, if the coefficient matrix of the system is singular, it indicates that the system either has no solutions (inconsistent system) or has infinitely many solutions. In other words, the `numpy.linalg.solve` function can be used when the system of equations has a **unique solution**.\n",
    "\n",
    "Here are the conditions under which `numpy.linalg.solve` can be used:\n",
    "\n",
    "1. The coefficient matrix must be square (i.e., have the same number of rows and columns), as the function expects a square matrix.\n",
    "2. The coefficient matrix must be non-singular.\n",
    "\n",
    "If these conditions are met, you can use `numpy.linalg.solve` to find the solution vector that satisfies the system of linear equations.\n",
    "\n",
    "However, if the coefficient matrix is singular, the `numpy.linalg.solve` function will raise a `LinAlgError`. In such cases, alternative methods or techniques may need to be employed to handle the specific characteristics of the system."
   ]
  },
  {
   "cell_type": "markdown",
   "id": "24e7adf6-c04a-4ec6-af82-5683ba4bacc5",
   "metadata": {},
   "source": [
    "#### Example: A system with infinitely many solutions\n",
    "\n",
    "Consider the following system of equations:\n",
    "\n",
    "$$\n",
    "\\begin{align}\n",
    "-x - 2y + 2z &= -1 \\\\\n",
    "2x + 4y -z &= 5 \\\\\n",
    "x + 2y &= 3\n",
    "\\end{align}\n",
    "$$\n",
    "\n",
    "We can construct the augmented matrix and utilize Gaussian elimination to determine the solution space.\n",
    "\n",
    "$$\n",
    "\\begin{bmatrix}\n",
    "-1 & -2 & 2 & \\big| & -1 \\\\\n",
    "2 & 4 & -1 & \\big| & 5 \\\\\n",
    "1 & 2 & 0 & \\big| & 3\n",
    "\\end{bmatrix}\n",
    "$$\n",
    "\n",
    "If we perform Gaussian elimination and turn our matrix to row reduced echelon form, we will get the following matrix:\n",
    "\n",
    "$$\n",
    "\\begin{bmatrix}\n",
    "1 & 2 & 0 & \\big| & 3 \\\\\n",
    "0 & 0 & 1 & \\big| & 1 \\\\\n",
    "0 & 0 & 0 & \\big| & 0\n",
    "\\end{bmatrix}\n",
    "$$\n",
    "\n",
    "Which describes the solution space as follows:\n",
    "\n",
    "$$\n",
    "\\begin{align}\n",
    "    x &= 3 - 2y \\\\\n",
    "    z &= 1 \\\\\n",
    "    y &\\in \\mathbb{R}\n",
    "\\end{align}\n",
    "$$\n",
    "\n",
    "Because we have infinitely many solutions `np.linalg.solve` can not solve this systems and raises a `LinAlgError`"
   ]
  },
  {
   "cell_type": "code",
   "execution_count": 4,
   "id": "50375507-33c7-4f0e-b98b-476b18bd7a14",
   "metadata": {},
   "outputs": [
    {
     "ename": "LinAlgError",
     "evalue": "Singular matrix",
     "output_type": "error",
     "traceback": [
      "\u001b[0;31m---------------------------------------------------------------------------\u001b[0m",
      "\u001b[0;31mLinAlgError\u001b[0m                               Traceback (most recent call last)",
      "Cell \u001b[0;32mIn[4], line 6\u001b[0m\n\u001b[1;32m      3\u001b[0m A \u001b[38;5;241m=\u001b[39m np\u001b[38;5;241m.\u001b[39marray([[\u001b[38;5;241m-\u001b[39m\u001b[38;5;241m1\u001b[39m, \u001b[38;5;241m-\u001b[39m\u001b[38;5;241m2\u001b[39m, \u001b[38;5;241m2\u001b[39m], [\u001b[38;5;241m2\u001b[39m, \u001b[38;5;241m4\u001b[39m, \u001b[38;5;241m-\u001b[39m\u001b[38;5;241m1\u001b[39m], [\u001b[38;5;241m1\u001b[39m, \u001b[38;5;241m2\u001b[39m, \u001b[38;5;241m0\u001b[39m]])\n\u001b[1;32m      4\u001b[0m b \u001b[38;5;241m=\u001b[39m np\u001b[38;5;241m.\u001b[39marray([\u001b[38;5;241m-\u001b[39m\u001b[38;5;241m1\u001b[39m, \u001b[38;5;241m5\u001b[39m, \u001b[38;5;241m3\u001b[39m])\n\u001b[0;32m----> 6\u001b[0m x \u001b[38;5;241m=\u001b[39m \u001b[43mnp\u001b[49m\u001b[38;5;241;43m.\u001b[39;49m\u001b[43mlinalg\u001b[49m\u001b[38;5;241;43m.\u001b[39;49m\u001b[43msolve\u001b[49m\u001b[43m(\u001b[49m\u001b[43mA\u001b[49m\u001b[43m,\u001b[49m\u001b[43m \u001b[49m\u001b[43mb\u001b[49m\u001b[43m)\u001b[49m\n",
      "File \u001b[0;32m<__array_function__ internals>:200\u001b[0m, in \u001b[0;36msolve\u001b[0;34m(*args, **kwargs)\u001b[0m\n",
      "File \u001b[0;32m~/miniconda3/lib/python3.11/site-packages/numpy/linalg/linalg.py:386\u001b[0m, in \u001b[0;36msolve\u001b[0;34m(a, b)\u001b[0m\n\u001b[1;32m    384\u001b[0m signature \u001b[38;5;241m=\u001b[39m \u001b[38;5;124m'\u001b[39m\u001b[38;5;124mDD->D\u001b[39m\u001b[38;5;124m'\u001b[39m \u001b[38;5;28;01mif\u001b[39;00m isComplexType(t) \u001b[38;5;28;01melse\u001b[39;00m \u001b[38;5;124m'\u001b[39m\u001b[38;5;124mdd->d\u001b[39m\u001b[38;5;124m'\u001b[39m\n\u001b[1;32m    385\u001b[0m extobj \u001b[38;5;241m=\u001b[39m get_linalg_error_extobj(_raise_linalgerror_singular)\n\u001b[0;32m--> 386\u001b[0m r \u001b[38;5;241m=\u001b[39m \u001b[43mgufunc\u001b[49m\u001b[43m(\u001b[49m\u001b[43ma\u001b[49m\u001b[43m,\u001b[49m\u001b[43m \u001b[49m\u001b[43mb\u001b[49m\u001b[43m,\u001b[49m\u001b[43m \u001b[49m\u001b[43msignature\u001b[49m\u001b[38;5;241;43m=\u001b[39;49m\u001b[43msignature\u001b[49m\u001b[43m,\u001b[49m\u001b[43m \u001b[49m\u001b[43mextobj\u001b[49m\u001b[38;5;241;43m=\u001b[39;49m\u001b[43mextobj\u001b[49m\u001b[43m)\u001b[49m\n\u001b[1;32m    388\u001b[0m \u001b[38;5;28;01mreturn\u001b[39;00m wrap(r\u001b[38;5;241m.\u001b[39mastype(result_t, copy\u001b[38;5;241m=\u001b[39m\u001b[38;5;28;01mFalse\u001b[39;00m))\n",
      "File \u001b[0;32m~/miniconda3/lib/python3.11/site-packages/numpy/linalg/linalg.py:89\u001b[0m, in \u001b[0;36m_raise_linalgerror_singular\u001b[0;34m(err, flag)\u001b[0m\n\u001b[1;32m     88\u001b[0m \u001b[38;5;28;01mdef\u001b[39;00m \u001b[38;5;21m_raise_linalgerror_singular\u001b[39m(err, flag):\n\u001b[0;32m---> 89\u001b[0m     \u001b[38;5;28;01mraise\u001b[39;00m LinAlgError(\u001b[38;5;124m\"\u001b[39m\u001b[38;5;124mSingular matrix\u001b[39m\u001b[38;5;124m\"\u001b[39m)\n",
      "\u001b[0;31mLinAlgError\u001b[0m: Singular matrix"
     ]
    }
   ],
   "source": [
    "import numpy as np\n",
    "\n",
    "A = np.array([[-1, -2, 2], [2, 4, -1], [1, 2, 0]])\n",
    "b = np.array([-1, 5, 3])\n",
    "\n",
    "x = np.linalg.solve(A, b)"
   ]
  }
 ],
 "metadata": {
  "kernelspec": {
   "display_name": "Python 3 (ipykernel)",
   "language": "python",
   "name": "python3"
  },
  "language_info": {
   "codemirror_mode": {
    "name": "ipython",
    "version": 3
   },
   "file_extension": ".py",
   "mimetype": "text/x-python",
   "name": "python",
   "nbconvert_exporter": "python",
   "pygments_lexer": "ipython3",
   "version": "3.11.4"
  }
 },
 "nbformat": 4,
 "nbformat_minor": 5
}
