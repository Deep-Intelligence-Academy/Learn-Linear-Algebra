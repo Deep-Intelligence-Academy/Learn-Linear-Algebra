{
 "cells": [
  {
   "cell_type": "markdown",
   "id": "e243c153-4271-4f50-97cb-e8dcd0517af3",
   "metadata": {},
   "source": [
    "## Finding solutions to linear systems\n",
    "\n",
    "In previous section we saw how to solve basic systems of equations using graphical method.\n",
    "\n",
    "Due to the eventual consideration of systems containing numerous equations and variables, the graphical method mentioned will typically lack utility. Instead, we will opt for an algebraic approach to address this problem and devise a technique for describing the solution sets of linear systems in a general manner."
   ]
  },
  {
   "cell_type": "markdown",
   "id": "528af1a3-884e-4c2b-85e6-29a07fa2f553",
   "metadata": {},
   "source": [
    "### Gaussian elimination\n",
    "\n",
    "We will create a procedure, commonly known as Gaussian elimination, that enables us to characterize the solution set of a linear system."
   ]
  },
  {
   "cell_type": "markdown",
   "id": "3672b49b-f7dd-4acc-8c5f-325326378f1d",
   "metadata": {},
   "source": [
    "#### Triangular system\n",
    "\n",
    "A triangular system refers to a system of linear equations where the coefficients of the variables form a triangular pattern when written in matrix form. In other words, the matrix representing the system is either lower triangular or upper triangular.\n",
    "\n",
    "A lower triangular system is one in which all the entries above the main diagonal (the diagonal from the top left to the bottom right) are zero. The variables in the system can be solved starting from the top equation and working downwards.\n",
    "\n",
    "For example, consider the following lower triangular system:\n",
    "\n",
    "$$\n",
    "\\begin{align}\n",
    "            z &= 2 \\\\\n",
    "       2y + 4z &= 8 \\\\\n",
    "    x + 2y + 3z &= 6\n",
    "\\end{align}\n",
    "$$\n",
    "\n",
    "An upper triangular system, on the other hand, has all the entries below the main diagonal equal to zero. In this case, the variables can be solved starting from the bottom equation and working upwards.\n",
    "\n",
    "For example, consider the following upper triangular system:\n",
    "\n",
    "$$\n",
    "\\begin{align}\n",
    "    x + 2y + 3z = 6 \\\\\n",
    "          y + 4z = 4 \\\\\n",
    "               z = 2\n",
    "\\end{align}\n",
    "$$\n",
    "\n",
    "Triangular systems have some desirable properties that make them easier to solve compared to general systems of linear equations. For instance, the solution to a triangular system can be obtained directly by **back substitution**, without the need for more complex methods like matrix inversion or Gaussian elimination."
   ]
  },
  {
   "cell_type": "markdown",
   "id": "d178946b-4f5b-4d33-8707-4d50bfbbd31a",
   "metadata": {},
   "source": [
    "#### Solution space\n",
    "\n",
    "For a system of linear equations, the solution space refers to the set of all possible solutions that simultaneously satisfy all the equations in the system. It represents the common solutions that satisfy the equations constraints.\n",
    "\n",
    "Here's an example of two linear systems of equations that have the same solution space:\n",
    "\n",
    "System 1:\n",
    "$$\n",
    "\\begin{align}\n",
    "2x + 3y &= 5 \\\\\n",
    "4x - y &= 3\n",
    "\\end{align}\n",
    "$$\n",
    "\n",
    "System 2:\n",
    "$$\n",
    "\\begin{align}\n",
    "6x + 9y &= 15 \\\\\n",
    "12x - 3y &= 9\n",
    "\\end{align}\n",
    "$$\n",
    "\n",
    "Both systems have the same solution space because System 2 is obtained by multiplying every term in System 1 by a factor of 3. This multiplication preserves the relationships between the variables and the constants, resulting in the same set of solutions.\n",
    "\n",
    "The solution space for these systems is a single point, and the common solution is x = 1 and y = 1. If you substitute these values into either system, you will find that both equations are satisfied.\n",
    "\n",
    "Note that scaling the equations by a constant factor does not change the solution space because it only rescales the coefficients and constants but does not alter the relationships between the variables."
   ]
  },
  {
   "cell_type": "code",
   "execution_count": null,
   "id": "cba82c70-6408-4b29-b5d1-3377717f94c3",
   "metadata": {},
   "outputs": [],
   "source": []
  }
 ],
 "metadata": {
  "kernelspec": {
   "display_name": "Python 3 (ipykernel)",
   "language": "python",
   "name": "python3"
  },
  "language_info": {
   "codemirror_mode": {
    "name": "ipython",
    "version": 3
   },
   "file_extension": ".py",
   "mimetype": "text/x-python",
   "name": "python",
   "nbconvert_exporter": "python",
   "pygments_lexer": "ipython3",
   "version": "3.11.4"
  }
 },
 "nbformat": 4,
 "nbformat_minor": 5
}
