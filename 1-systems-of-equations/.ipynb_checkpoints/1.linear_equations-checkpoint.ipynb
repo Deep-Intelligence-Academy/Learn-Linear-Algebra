{
 "cells": [
  {
   "cell_type": "markdown",
   "id": "57498b06-fecd-404b-a5d8-ce02b9202cc8",
   "metadata": {},
   "source": [
    "## Linear equations\n",
    "\n",
    "A linear equation, is an equation that can be expressed in the following form:\n",
    "\n",
    "$$a_1 x_1 + a_2 x_2 + \\dots + a_n x_n + b = 0$$\n",
    "\n",
    "where:\n",
    "- $x_1, x_2, \\ldots, x_n$ are varibales (unknowns)\n",
    "- $a_1, a_2, \\ldots, a_n, b$ are the coefficients, which are often real numbers.\n",
    "\n",
    "Fundamentally, linear algebra revolves around the study of linear equations, particularly collections of two or more linear equations."
   ]
  },
  {
   "cell_type": "markdown",
   "id": "10430d6a-20e0-4604-bc8a-80d538d425b0",
   "metadata": {},
   "source": [
    "### Some simple examples\n",
    "\n",
    "Once we have completed this chapter, we will proceed to acquire the skills to solve systems of linear equations with numerous equations and variables (unknowns). To start, though, we'll examine a more recognizable scenario involving a limited number of equations and unknowns. Despite its apparent simplicity, this scenario is sufficiently complex to illustrate fundamental concepts that will inspire our further exploration.\n",
    "\n",
    "In this particular instance, we examine sets of linear equations that involve only two unknowns. In such situations, we have the option to represent the solution sets of these equations graphically, enabling us to visually observe various patterns or characteristics. First consider only one following equation:\n",
    "\n",
    "$$\n",
    "\\begin{align}\n",
    "    y - x - 1 &= 0 \\\\\n",
    "\\end{align}\n",
    "$$\n",
    "\n",
    "We can employ [Desmos](https://www.desmos.com/calculator) as a tool to generate a visual depiction of the feasible points that fulfill this equation:\n",
    "\n",
    "<img src=\"./pics/eq1.png\" alt=\"Equation 2 solutions\" width=\"300\" height=\"300\">\n",
    "\n",
    "We can see that there are infinitely many points that satisfy this equation.\n",
    "\n",
    "Now consider the set of following two equations:\n",
    "\n",
    "$$\n",
    "\\begin{align}\n",
    "    y - x - 1 &= 0 \\\\\n",
    "    y - 2x + 1 &= 0 \\\\\n",
    "\\end{align}\n",
    "$$\n",
    "\n",
    "<img src=\"./pics/eq2.png\" alt=\"Equation 1 solutions\" width=\"300\" height=\"300\">\n",
    "\n",
    "It is apparent that there exists only a single point $(2, 3)$ that satisfies both equations simultaneously, so $x=2$ and $y=3$ is a solution for these quations.\n",
    "\n",
    "Next consider these equations:\n",
    "\n",
    "$$\n",
    "\\begin{align}\n",
    "    y - x - 1 &= 0 \\\\\n",
    "    y - 2x + 1 &= 0 \\\\\n",
    "    y + x &= 0\n",
    "\\end{align}\n",
    "$$\n",
    "\n",
    "Let's visually represent these equations and examine the points that satisfy them at the same time:\n",
    "\n",
    "<img src=\"./pics/eq3.png\" alt=\"Equation 2 solutions\" width=\"300\" height=\"300\">\n",
    "\n",
    "The graph makes it clear that there is no point that satisfies all three equations simultaneously.\n",
    "\n",
    "This example showcases multiple potential outcomes for the solutions to a set of linear equations:\n",
    " - With a single equation, there are infinitely many points $(x, y)$ satisfying that equation.\n",
    " - By introducing a second equation, we impose an additional condition on the points, leading to a unique point that satisfies both equations.\n",
    " - When a third equation is added, it introduces a third condition on the points, and as a result, there is no point that satisfies all three equations simultaneously."
   ]
  },
  {
   "cell_type": "code",
   "execution_count": null,
   "id": "c6069b47-4870-4f4f-a1c4-3d07df56ee93",
   "metadata": {},
   "outputs": [],
   "source": []
  }
 ],
 "metadata": {
  "kernelspec": {
   "display_name": "Python 3 (ipykernel)",
   "language": "python",
   "name": "python3"
  },
  "language_info": {
   "codemirror_mode": {
    "name": "ipython",
    "version": 3
   },
   "file_extension": ".py",
   "mimetype": "text/x-python",
   "name": "python",
   "nbconvert_exporter": "python",
   "pygments_lexer": "ipython3",
   "version": "3.11.4"
  }
 },
 "nbformat": 4,
 "nbformat_minor": 5
}
