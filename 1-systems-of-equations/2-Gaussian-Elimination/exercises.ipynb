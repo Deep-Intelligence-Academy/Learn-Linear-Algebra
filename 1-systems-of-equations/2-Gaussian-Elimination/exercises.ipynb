{
 "cells": [
  {
   "cell_type": "markdown",
   "id": "9e5d01dd-c878-4d3b-a590-db16190ec243",
   "metadata": {},
   "source": [
    "### Exercises"
   ]
  },
  {
   "cell_type": "markdown",
   "id": "d867ee52-8a32-4a9f-8c8d-04bf9ddaa2ef",
   "metadata": {},
   "source": [
    "#### Exercise 1-6\n",
    "\n",
    "Solve exercise 1-6 from section two of first chapter of [**Understanding Linear Algebra**](https://understandinglinearalgebra.org/sec-finding-solutions.html) Book "
   ]
  },
  {
   "cell_type": "markdown",
   "id": "14ebbd7f-8b0d-4a1b-a868-42950d19294c",
   "metadata": {},
   "source": [
    "#### Exercise 7\n",
    "\n",
    "Try to write a Python code for the Gaussian elimination algorithm without relying on external libraries. Your code should include a function called `to_rref` that accepts a matrix as input and transforms it into a matrix in row reduced echelon form."
   ]
  }
 ],
 "metadata": {
  "kernelspec": {
   "display_name": "Python 3 (ipykernel)",
   "language": "python",
   "name": "python3"
  },
  "language_info": {
   "codemirror_mode": {
    "name": "ipython",
    "version": 3
   },
   "file_extension": ".py",
   "mimetype": "text/x-python",
   "name": "python",
   "nbconvert_exporter": "python",
   "pygments_lexer": "ipython3",
   "version": "3.11.4"
  }
 },
 "nbformat": 4,
 "nbformat_minor": 5
}
